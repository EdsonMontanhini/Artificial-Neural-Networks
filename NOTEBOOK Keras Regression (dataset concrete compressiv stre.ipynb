{
 "cells": [
  {
   "cell_type": "markdown",
   "metadata": {
    "collapsed": true
   },
   "source": [
    "# Neural network with Keras"
   ]
  },
  {
   "cell_type": "markdown",
   "metadata": {},
   "source": [
    "# Part A: Building the base line model"
   ]
  },
  {
   "cell_type": "markdown",
   "metadata": {},
   "source": [
    "## A1. Preparing the dataset"
   ]
  },
  {
   "cell_type": "code",
   "execution_count": 131,
   "metadata": {},
   "outputs": [
    {
     "data": {
      "text/html": [
       "<div>\n",
       "<style scoped>\n",
       "    .dataframe tbody tr th:only-of-type {\n",
       "        vertical-align: middle;\n",
       "    }\n",
       "\n",
       "    .dataframe tbody tr th {\n",
       "        vertical-align: top;\n",
       "    }\n",
       "\n",
       "    .dataframe thead th {\n",
       "        text-align: right;\n",
       "    }\n",
       "</style>\n",
       "<table border=\"1\" class=\"dataframe\">\n",
       "  <thead>\n",
       "    <tr style=\"text-align: right;\">\n",
       "      <th></th>\n",
       "      <th>Cement</th>\n",
       "      <th>Blast Furnace Slag</th>\n",
       "      <th>Fly Ash</th>\n",
       "      <th>Water</th>\n",
       "      <th>Superplasticizer</th>\n",
       "      <th>Coarse Aggregate</th>\n",
       "      <th>Fine Aggregate</th>\n",
       "      <th>Age</th>\n",
       "      <th>Strength</th>\n",
       "    </tr>\n",
       "  </thead>\n",
       "  <tbody>\n",
       "    <tr>\n",
       "      <th>0</th>\n",
       "      <td>540.0</td>\n",
       "      <td>0.0</td>\n",
       "      <td>0.0</td>\n",
       "      <td>162.0</td>\n",
       "      <td>2.5</td>\n",
       "      <td>1040.0</td>\n",
       "      <td>676.0</td>\n",
       "      <td>28</td>\n",
       "      <td>79.99</td>\n",
       "    </tr>\n",
       "    <tr>\n",
       "      <th>1</th>\n",
       "      <td>540.0</td>\n",
       "      <td>0.0</td>\n",
       "      <td>0.0</td>\n",
       "      <td>162.0</td>\n",
       "      <td>2.5</td>\n",
       "      <td>1055.0</td>\n",
       "      <td>676.0</td>\n",
       "      <td>28</td>\n",
       "      <td>61.89</td>\n",
       "    </tr>\n",
       "    <tr>\n",
       "      <th>2</th>\n",
       "      <td>332.5</td>\n",
       "      <td>142.5</td>\n",
       "      <td>0.0</td>\n",
       "      <td>228.0</td>\n",
       "      <td>0.0</td>\n",
       "      <td>932.0</td>\n",
       "      <td>594.0</td>\n",
       "      <td>270</td>\n",
       "      <td>40.27</td>\n",
       "    </tr>\n",
       "    <tr>\n",
       "      <th>3</th>\n",
       "      <td>332.5</td>\n",
       "      <td>142.5</td>\n",
       "      <td>0.0</td>\n",
       "      <td>228.0</td>\n",
       "      <td>0.0</td>\n",
       "      <td>932.0</td>\n",
       "      <td>594.0</td>\n",
       "      <td>365</td>\n",
       "      <td>41.05</td>\n",
       "    </tr>\n",
       "    <tr>\n",
       "      <th>4</th>\n",
       "      <td>198.6</td>\n",
       "      <td>132.4</td>\n",
       "      <td>0.0</td>\n",
       "      <td>192.0</td>\n",
       "      <td>0.0</td>\n",
       "      <td>978.4</td>\n",
       "      <td>825.5</td>\n",
       "      <td>360</td>\n",
       "      <td>44.30</td>\n",
       "    </tr>\n",
       "  </tbody>\n",
       "</table>\n",
       "</div>"
      ],
      "text/plain": [
       "   Cement  Blast Furnace Slag  Fly Ash  Water  Superplasticizer  \\\n",
       "0   540.0                 0.0      0.0  162.0               2.5   \n",
       "1   540.0                 0.0      0.0  162.0               2.5   \n",
       "2   332.5               142.5      0.0  228.0               0.0   \n",
       "3   332.5               142.5      0.0  228.0               0.0   \n",
       "4   198.6               132.4      0.0  192.0               0.0   \n",
       "\n",
       "   Coarse Aggregate  Fine Aggregate  Age  Strength  \n",
       "0            1040.0           676.0   28     79.99  \n",
       "1            1055.0           676.0   28     61.89  \n",
       "2             932.0           594.0  270     40.27  \n",
       "3             932.0           594.0  365     41.05  \n",
       "4             978.4           825.5  360     44.30  "
      ]
     },
     "execution_count": 131,
     "metadata": {},
     "output_type": "execute_result"
    }
   ],
   "source": [
    "# Downloading the data and reading it into a pandas dataframe\n",
    "import pandas as pd\n",
    "concrete_data = pd.read_csv('https://s3-api.us-geo.objectstorage.softlayer.net/cf-courses-data/CognitiveClass/DL0101EN/labs/data/concrete_data.csv')\n",
    "concrete_data.head()\n"
   ]
  },
  {
   "cell_type": "code",
   "execution_count": 132,
   "metadata": {},
   "outputs": [
    {
     "data": {
      "text/plain": [
       "(1030, 9)"
      ]
     },
     "execution_count": 132,
     "metadata": {},
     "output_type": "execute_result"
    }
   ],
   "source": [
    "# Checking how many data point we have\n",
    "concrete_data.shape"
   ]
  },
  {
   "cell_type": "code",
   "execution_count": 133,
   "metadata": {},
   "outputs": [
    {
     "data": {
      "text/plain": [
       "Cement                0\n",
       "Blast Furnace Slag    0\n",
       "Fly Ash               0\n",
       "Water                 0\n",
       "Superplasticizer      0\n",
       "Coarse Aggregate      0\n",
       "Fine Aggregate        0\n",
       "Age                   0\n",
       "Strength              0\n",
       "dtype: int64"
      ]
     },
     "execution_count": 133,
     "metadata": {},
     "output_type": "execute_result"
    }
   ],
   "source": [
    "# Before building the model, I'm going to check if there ismissing value in the dataset\n",
    "concrete_data.isnull().sum()"
   ]
  },
  {
   "cell_type": "code",
   "execution_count": 134,
   "metadata": {},
   "outputs": [
    {
     "data": {
      "text/html": [
       "<div>\n",
       "<style scoped>\n",
       "    .dataframe tbody tr th:only-of-type {\n",
       "        vertical-align: middle;\n",
       "    }\n",
       "\n",
       "    .dataframe tbody tr th {\n",
       "        vertical-align: top;\n",
       "    }\n",
       "\n",
       "    .dataframe thead th {\n",
       "        text-align: right;\n",
       "    }\n",
       "</style>\n",
       "<table border=\"1\" class=\"dataframe\">\n",
       "  <thead>\n",
       "    <tr style=\"text-align: right;\">\n",
       "      <th></th>\n",
       "      <th>Cement</th>\n",
       "      <th>Blast Furnace Slag</th>\n",
       "      <th>Fly Ash</th>\n",
       "      <th>Water</th>\n",
       "      <th>Superplasticizer</th>\n",
       "      <th>Coarse Aggregate</th>\n",
       "      <th>Fine Aggregate</th>\n",
       "      <th>Age</th>\n",
       "      <th>Strength</th>\n",
       "    </tr>\n",
       "  </thead>\n",
       "  <tbody>\n",
       "    <tr>\n",
       "      <th>count</th>\n",
       "      <td>1030.000000</td>\n",
       "      <td>1030.000000</td>\n",
       "      <td>1030.000000</td>\n",
       "      <td>1030.000000</td>\n",
       "      <td>1030.000000</td>\n",
       "      <td>1030.000000</td>\n",
       "      <td>1030.000000</td>\n",
       "      <td>1030.000000</td>\n",
       "      <td>1030.000000</td>\n",
       "    </tr>\n",
       "    <tr>\n",
       "      <th>mean</th>\n",
       "      <td>281.167864</td>\n",
       "      <td>73.895825</td>\n",
       "      <td>54.188350</td>\n",
       "      <td>181.567282</td>\n",
       "      <td>6.204660</td>\n",
       "      <td>972.918932</td>\n",
       "      <td>773.580485</td>\n",
       "      <td>45.662136</td>\n",
       "      <td>35.817961</td>\n",
       "    </tr>\n",
       "    <tr>\n",
       "      <th>std</th>\n",
       "      <td>104.506364</td>\n",
       "      <td>86.279342</td>\n",
       "      <td>63.997004</td>\n",
       "      <td>21.354219</td>\n",
       "      <td>5.973841</td>\n",
       "      <td>77.753954</td>\n",
       "      <td>80.175980</td>\n",
       "      <td>63.169912</td>\n",
       "      <td>16.705742</td>\n",
       "    </tr>\n",
       "    <tr>\n",
       "      <th>min</th>\n",
       "      <td>102.000000</td>\n",
       "      <td>0.000000</td>\n",
       "      <td>0.000000</td>\n",
       "      <td>121.800000</td>\n",
       "      <td>0.000000</td>\n",
       "      <td>801.000000</td>\n",
       "      <td>594.000000</td>\n",
       "      <td>1.000000</td>\n",
       "      <td>2.330000</td>\n",
       "    </tr>\n",
       "    <tr>\n",
       "      <th>25%</th>\n",
       "      <td>192.375000</td>\n",
       "      <td>0.000000</td>\n",
       "      <td>0.000000</td>\n",
       "      <td>164.900000</td>\n",
       "      <td>0.000000</td>\n",
       "      <td>932.000000</td>\n",
       "      <td>730.950000</td>\n",
       "      <td>7.000000</td>\n",
       "      <td>23.710000</td>\n",
       "    </tr>\n",
       "    <tr>\n",
       "      <th>50%</th>\n",
       "      <td>272.900000</td>\n",
       "      <td>22.000000</td>\n",
       "      <td>0.000000</td>\n",
       "      <td>185.000000</td>\n",
       "      <td>6.400000</td>\n",
       "      <td>968.000000</td>\n",
       "      <td>779.500000</td>\n",
       "      <td>28.000000</td>\n",
       "      <td>34.445000</td>\n",
       "    </tr>\n",
       "    <tr>\n",
       "      <th>75%</th>\n",
       "      <td>350.000000</td>\n",
       "      <td>142.950000</td>\n",
       "      <td>118.300000</td>\n",
       "      <td>192.000000</td>\n",
       "      <td>10.200000</td>\n",
       "      <td>1029.400000</td>\n",
       "      <td>824.000000</td>\n",
       "      <td>56.000000</td>\n",
       "      <td>46.135000</td>\n",
       "    </tr>\n",
       "    <tr>\n",
       "      <th>max</th>\n",
       "      <td>540.000000</td>\n",
       "      <td>359.400000</td>\n",
       "      <td>200.100000</td>\n",
       "      <td>247.000000</td>\n",
       "      <td>32.200000</td>\n",
       "      <td>1145.000000</td>\n",
       "      <td>992.600000</td>\n",
       "      <td>365.000000</td>\n",
       "      <td>82.600000</td>\n",
       "    </tr>\n",
       "  </tbody>\n",
       "</table>\n",
       "</div>"
      ],
      "text/plain": [
       "            Cement  Blast Furnace Slag      Fly Ash        Water  \\\n",
       "count  1030.000000         1030.000000  1030.000000  1030.000000   \n",
       "mean    281.167864           73.895825    54.188350   181.567282   \n",
       "std     104.506364           86.279342    63.997004    21.354219   \n",
       "min     102.000000            0.000000     0.000000   121.800000   \n",
       "25%     192.375000            0.000000     0.000000   164.900000   \n",
       "50%     272.900000           22.000000     0.000000   185.000000   \n",
       "75%     350.000000          142.950000   118.300000   192.000000   \n",
       "max     540.000000          359.400000   200.100000   247.000000   \n",
       "\n",
       "       Superplasticizer  Coarse Aggregate  Fine Aggregate          Age  \\\n",
       "count       1030.000000       1030.000000     1030.000000  1030.000000   \n",
       "mean           6.204660        972.918932      773.580485    45.662136   \n",
       "std            5.973841         77.753954       80.175980    63.169912   \n",
       "min            0.000000        801.000000      594.000000     1.000000   \n",
       "25%            0.000000        932.000000      730.950000     7.000000   \n",
       "50%            6.400000        968.000000      779.500000    28.000000   \n",
       "75%           10.200000       1029.400000      824.000000    56.000000   \n",
       "max           32.200000       1145.000000      992.600000   365.000000   \n",
       "\n",
       "          Strength  \n",
       "count  1030.000000  \n",
       "mean     35.817961  \n",
       "std      16.705742  \n",
       "min       2.330000  \n",
       "25%      23.710000  \n",
       "50%      34.445000  \n",
       "75%      46.135000  \n",
       "max      82.600000  "
      ]
     },
     "execution_count": 134,
     "metadata": {},
     "output_type": "execute_result"
    }
   ],
   "source": [
    "# The data seem correct. Let's describe it now\n",
    "concrete_data.describe()"
   ]
  },
  {
   "cell_type": "code",
   "execution_count": 135,
   "metadata": {},
   "outputs": [],
   "source": [
    "# Now I'm going to split the dataset into predictors and target column\n",
    "concrete_data_columns = concrete_data.columns\n",
    "\n",
    "predictors = concrete_data[concrete_data_columns[concrete_data_columns != 'Strength']] # all columns except Strength\n",
    "target = concrete_data['Strength'] # Strength column\n"
   ]
  },
  {
   "cell_type": "code",
   "execution_count": 136,
   "metadata": {
    "scrolled": true
   },
   "outputs": [
    {
     "data": {
      "text/html": [
       "<div>\n",
       "<style scoped>\n",
       "    .dataframe tbody tr th:only-of-type {\n",
       "        vertical-align: middle;\n",
       "    }\n",
       "\n",
       "    .dataframe tbody tr th {\n",
       "        vertical-align: top;\n",
       "    }\n",
       "\n",
       "    .dataframe thead th {\n",
       "        text-align: right;\n",
       "    }\n",
       "</style>\n",
       "<table border=\"1\" class=\"dataframe\">\n",
       "  <thead>\n",
       "    <tr style=\"text-align: right;\">\n",
       "      <th></th>\n",
       "      <th>Cement</th>\n",
       "      <th>Blast Furnace Slag</th>\n",
       "      <th>Fly Ash</th>\n",
       "      <th>Water</th>\n",
       "      <th>Superplasticizer</th>\n",
       "      <th>Coarse Aggregate</th>\n",
       "      <th>Fine Aggregate</th>\n",
       "      <th>Age</th>\n",
       "    </tr>\n",
       "  </thead>\n",
       "  <tbody>\n",
       "    <tr>\n",
       "      <th>0</th>\n",
       "      <td>540.0</td>\n",
       "      <td>0.0</td>\n",
       "      <td>0.0</td>\n",
       "      <td>162.0</td>\n",
       "      <td>2.5</td>\n",
       "      <td>1040.0</td>\n",
       "      <td>676.0</td>\n",
       "      <td>28</td>\n",
       "    </tr>\n",
       "    <tr>\n",
       "      <th>1</th>\n",
       "      <td>540.0</td>\n",
       "      <td>0.0</td>\n",
       "      <td>0.0</td>\n",
       "      <td>162.0</td>\n",
       "      <td>2.5</td>\n",
       "      <td>1055.0</td>\n",
       "      <td>676.0</td>\n",
       "      <td>28</td>\n",
       "    </tr>\n",
       "    <tr>\n",
       "      <th>2</th>\n",
       "      <td>332.5</td>\n",
       "      <td>142.5</td>\n",
       "      <td>0.0</td>\n",
       "      <td>228.0</td>\n",
       "      <td>0.0</td>\n",
       "      <td>932.0</td>\n",
       "      <td>594.0</td>\n",
       "      <td>270</td>\n",
       "    </tr>\n",
       "    <tr>\n",
       "      <th>3</th>\n",
       "      <td>332.5</td>\n",
       "      <td>142.5</td>\n",
       "      <td>0.0</td>\n",
       "      <td>228.0</td>\n",
       "      <td>0.0</td>\n",
       "      <td>932.0</td>\n",
       "      <td>594.0</td>\n",
       "      <td>365</td>\n",
       "    </tr>\n",
       "    <tr>\n",
       "      <th>4</th>\n",
       "      <td>198.6</td>\n",
       "      <td>132.4</td>\n",
       "      <td>0.0</td>\n",
       "      <td>192.0</td>\n",
       "      <td>0.0</td>\n",
       "      <td>978.4</td>\n",
       "      <td>825.5</td>\n",
       "      <td>360</td>\n",
       "    </tr>\n",
       "  </tbody>\n",
       "</table>\n",
       "</div>"
      ],
      "text/plain": [
       "   Cement  Blast Furnace Slag  Fly Ash  Water  Superplasticizer  \\\n",
       "0   540.0                 0.0      0.0  162.0               2.5   \n",
       "1   540.0                 0.0      0.0  162.0               2.5   \n",
       "2   332.5               142.5      0.0  228.0               0.0   \n",
       "3   332.5               142.5      0.0  228.0               0.0   \n",
       "4   198.6               132.4      0.0  192.0               0.0   \n",
       "\n",
       "   Coarse Aggregate  Fine Aggregate  Age  \n",
       "0            1040.0           676.0   28  \n",
       "1            1055.0           676.0   28  \n",
       "2             932.0           594.0  270  \n",
       "3             932.0           594.0  365  \n",
       "4             978.4           825.5  360  "
      ]
     },
     "execution_count": 136,
     "metadata": {},
     "output_type": "execute_result"
    }
   ],
   "source": [
    "# Quick check of predictors\n",
    "predictors.head()"
   ]
  },
  {
   "cell_type": "code",
   "execution_count": 137,
   "metadata": {},
   "outputs": [],
   "source": [
    "# Saving the predictor to cols beacause I need this number to build the nnetwork\n",
    "cols = predictors_norm.shape[1] # number of predictors"
   ]
  },
  {
   "cell_type": "code",
   "execution_count": 138,
   "metadata": {},
   "outputs": [
    {
     "data": {
      "text/plain": [
       "0    79.99\n",
       "1    61.89\n",
       "2    40.27\n",
       "3    41.05\n",
       "4    44.30\n",
       "Name: Strength, dtype: float64"
      ]
     },
     "execution_count": 138,
     "metadata": {},
     "output_type": "execute_result"
    }
   ],
   "source": [
    "# Quick check of target\n",
    "target.head()"
   ]
  },
  {
   "cell_type": "code",
   "execution_count": 141,
   "metadata": {},
   "outputs": [],
   "source": [
    "# Importing keras now\n",
    "import keras"
   ]
  },
  {
   "cell_type": "code",
   "execution_count": 142,
   "metadata": {},
   "outputs": [],
   "source": [
    "# Importing the different package\n",
    "from keras.models import Sequential\n",
    "from keras.layers import Dense\n"
   ]
  },
  {
   "cell_type": "markdown",
   "metadata": {},
   "source": [
    "## A 2. Building the neural network by defining the Keras regression model"
   ]
  },
  {
   "cell_type": "code",
   "execution_count": 143,
   "metadata": {},
   "outputs": [],
   "source": [
    "# define regression model wtih One hidden layer of 10 nodes, and a ReLU activation function\n",
    "def regression1_model():\n",
    "    # create model\n",
    "    model = Sequential()\n",
    "    model.add(Dense(10, activation='relu', input_shape=(cols,)))\n",
    "    model.add(Dense(10, activation='relu'))\n",
    "    \n",
    "    model.add(Dense(1))\n",
    "    \n",
    "    # compile model using the adam optimizer and the mean squared error as the loss function\n",
    "    model.compile(optimizer='adam', loss='mean_squared_error')\n",
    "    return model\n"
   ]
  },
  {
   "cell_type": "markdown",
   "metadata": {},
   "source": [
    "## A 3. Training the model on the training data"
   ]
  },
  {
   "cell_type": "code",
   "execution_count": 144,
   "metadata": {},
   "outputs": [],
   "source": [
    "# Calling the function to build the model\n",
    "model1 = regression1_model()\n"
   ]
  },
  {
   "cell_type": "code",
   "execution_count": 145,
   "metadata": {},
   "outputs": [
    {
     "name": "stdout",
     "output_type": "stream",
     "text": [
      "Train on 721 samples, validate on 309 samples\n",
      "Epoch 1/50\n",
      " - 1s - loss: 40148.6657 - val_loss: 11770.0300\n",
      "Epoch 2/50\n",
      " - 0s - loss: 4401.1371 - val_loss: 2127.6767\n",
      "Epoch 3/50\n",
      " - 0s - loss: 2472.8139 - val_loss: 1984.5700\n",
      "Epoch 4/50\n",
      " - 0s - loss: 2172.2704 - val_loss: 2050.4353\n",
      "Epoch 5/50\n",
      " - 0s - loss: 1993.1145 - val_loss: 1802.9500\n",
      "Epoch 6/50\n",
      " - 0s - loss: 1824.1128 - val_loss: 1617.1356\n",
      "Epoch 7/50\n",
      " - 0s - loss: 1673.4367 - val_loss: 1492.8139\n",
      "Epoch 8/50\n",
      " - 0s - loss: 1535.7038 - val_loss: 1351.9150\n",
      "Epoch 9/50\n",
      " - 0s - loss: 1411.7196 - val_loss: 1274.3200\n",
      "Epoch 10/50\n",
      " - 0s - loss: 1302.9251 - val_loss: 1142.1013\n",
      "Epoch 11/50\n",
      " - 0s - loss: 1208.1819 - val_loss: 1038.1482\n",
      "Epoch 12/50\n",
      " - 0s - loss: 1127.8926 - val_loss: 993.1644\n",
      "Epoch 13/50\n",
      " - 0s - loss: 1053.0725 - val_loss: 899.2410\n",
      "Epoch 14/50\n",
      " - 0s - loss: 993.8819 - val_loss: 850.6037\n",
      "Epoch 15/50\n",
      " - 0s - loss: 937.4904 - val_loss: 781.3544\n",
      "Epoch 16/50\n",
      " - 0s - loss: 881.8358 - val_loss: 732.8018\n",
      "Epoch 17/50\n",
      " - 0s - loss: 832.8363 - val_loss: 694.4106\n",
      "Epoch 18/50\n",
      " - 0s - loss: 789.0490 - val_loss: 619.0407\n",
      "Epoch 19/50\n",
      " - 0s - loss: 743.6488 - val_loss: 635.7845\n",
      "Epoch 20/50\n",
      " - 0s - loss: 704.2336 - val_loss: 578.3700\n",
      "Epoch 21/50\n",
      " - 0s - loss: 666.8660 - val_loss: 561.9778\n",
      "Epoch 22/50\n",
      " - 0s - loss: 633.4394 - val_loss: 493.5399\n",
      "Epoch 23/50\n",
      " - 0s - loss: 600.6153 - val_loss: 524.2842\n",
      "Epoch 24/50\n",
      " - 0s - loss: 574.6456 - val_loss: 455.0623\n",
      "Epoch 25/50\n",
      " - 0s - loss: 544.0175 - val_loss: 454.7643\n",
      "Epoch 26/50\n",
      " - 0s - loss: 519.6657 - val_loss: 418.9523\n",
      "Epoch 27/50\n",
      " - 0s - loss: 496.5688 - val_loss: 394.9361\n",
      "Epoch 28/50\n",
      " - 0s - loss: 476.4943 - val_loss: 395.2333\n",
      "Epoch 29/50\n",
      " - 0s - loss: 458.0725 - val_loss: 356.7964\n",
      "Epoch 30/50\n",
      " - 0s - loss: 440.7509 - val_loss: 366.6420\n",
      "Epoch 31/50\n",
      " - 0s - loss: 425.5925 - val_loss: 327.4059\n",
      "Epoch 32/50\n",
      " - 0s - loss: 410.0085 - val_loss: 315.1687\n",
      "Epoch 33/50\n",
      " - 0s - loss: 394.8557 - val_loss: 335.4994\n",
      "Epoch 34/50\n",
      " - 0s - loss: 384.7297 - val_loss: 304.8117\n",
      "Epoch 35/50\n",
      " - 0s - loss: 370.5513 - val_loss: 287.1974\n",
      "Epoch 36/50\n",
      " - 0s - loss: 359.7449 - val_loss: 300.8073\n",
      "Epoch 37/50\n",
      " - 0s - loss: 349.2605 - val_loss: 272.9972\n",
      "Epoch 38/50\n",
      " - 0s - loss: 341.3246 - val_loss: 274.2558\n",
      "Epoch 39/50\n",
      " - 0s - loss: 330.8525 - val_loss: 264.2382\n",
      "Epoch 40/50\n",
      " - 0s - loss: 324.0873 - val_loss: 246.1469\n",
      "Epoch 41/50\n",
      " - 0s - loss: 316.0018 - val_loss: 265.1660\n",
      "Epoch 42/50\n",
      " - 0s - loss: 307.7496 - val_loss: 265.4395\n",
      "Epoch 43/50\n",
      " - 0s - loss: 302.3038 - val_loss: 268.9068\n",
      "Epoch 44/50\n",
      " - 0s - loss: 294.9851 - val_loss: 240.5576\n",
      "Epoch 45/50\n",
      " - 0s - loss: 290.5791 - val_loss: 263.6825\n",
      "Epoch 46/50\n",
      " - 0s - loss: 283.4525 - val_loss: 266.7103\n",
      "Epoch 47/50\n",
      " - 0s - loss: 278.9368 - val_loss: 264.1600\n",
      "Epoch 48/50\n",
      " - 0s - loss: 273.5174 - val_loss: 243.6676\n",
      "Epoch 49/50\n",
      " - 2s - loss: 268.2231 - val_loss: 254.9041\n",
      "Epoch 50/50\n",
      " - 0s - loss: 264.2752 - val_loss: 255.5293\n"
     ]
    },
    {
     "data": {
      "text/plain": [
       "<keras.callbacks.History at 0x7ff0a02a2ef0>"
      ]
     },
     "execution_count": 145,
     "metadata": {},
     "output_type": "execute_result"
    }
   ],
   "source": [
    "# Training the model using the fit method and leaving out 30% of the dataset for validation and also 50 epochs on training datasets\n",
    "model1.fit(predictors, target, validation_split=0.3, epochs=50, verbose=2)\n"
   ]
  },
  {
   "cell_type": "markdown",
   "metadata": {},
   "source": [
    "## A 4. Evaluate the model on the test data"
   ]
  },
  {
   "cell_type": "code",
   "execution_count": 146,
   "metadata": {},
   "outputs": [
    {
     "data": {
      "text/plain": [
       "259.5098343341006"
      ]
     },
     "execution_count": 146,
     "metadata": {},
     "output_type": "execute_result"
    }
   ],
   "source": [
    "predictions1 = model1.predict(predictors)\n",
    "# Computig the mean squared error between the predicted concrete strength and the actual concrete strength\n",
    "from sklearn.metrics import mean_squared_error\n",
    "y_pred=predictions1\n",
    "y_true=target\n",
    "\n",
    "mean_squared_error (y_pred,y_true)"
   ]
  },
  {
   "cell_type": "markdown",
   "metadata": {},
   "source": [
    "## A 5. Creating a list of 50 mean squared error"
   ]
  },
  {
   "cell_type": "code",
   "execution_count": null,
   "metadata": {},
   "outputs": [],
   "source": []
  },
  {
   "cell_type": "markdown",
   "metadata": {},
   "source": [
    "# Part B: Normalize the data"
   ]
  },
  {
   "cell_type": "code",
   "execution_count": 147,
   "metadata": {},
   "outputs": [
    {
     "data": {
      "text/html": [
       "<div>\n",
       "<style scoped>\n",
       "    .dataframe tbody tr th:only-of-type {\n",
       "        vertical-align: middle;\n",
       "    }\n",
       "\n",
       "    .dataframe tbody tr th {\n",
       "        vertical-align: top;\n",
       "    }\n",
       "\n",
       "    .dataframe thead th {\n",
       "        text-align: right;\n",
       "    }\n",
       "</style>\n",
       "<table border=\"1\" class=\"dataframe\">\n",
       "  <thead>\n",
       "    <tr style=\"text-align: right;\">\n",
       "      <th></th>\n",
       "      <th>Cement</th>\n",
       "      <th>Blast Furnace Slag</th>\n",
       "      <th>Fly Ash</th>\n",
       "      <th>Water</th>\n",
       "      <th>Superplasticizer</th>\n",
       "      <th>Coarse Aggregate</th>\n",
       "      <th>Fine Aggregate</th>\n",
       "      <th>Age</th>\n",
       "    </tr>\n",
       "  </thead>\n",
       "  <tbody>\n",
       "    <tr>\n",
       "      <th>0</th>\n",
       "      <td>2.476712</td>\n",
       "      <td>-0.856472</td>\n",
       "      <td>-0.846733</td>\n",
       "      <td>-0.916319</td>\n",
       "      <td>-0.620147</td>\n",
       "      <td>0.862735</td>\n",
       "      <td>-1.217079</td>\n",
       "      <td>-0.279597</td>\n",
       "    </tr>\n",
       "    <tr>\n",
       "      <th>1</th>\n",
       "      <td>2.476712</td>\n",
       "      <td>-0.856472</td>\n",
       "      <td>-0.846733</td>\n",
       "      <td>-0.916319</td>\n",
       "      <td>-0.620147</td>\n",
       "      <td>1.055651</td>\n",
       "      <td>-1.217079</td>\n",
       "      <td>-0.279597</td>\n",
       "    </tr>\n",
       "    <tr>\n",
       "      <th>2</th>\n",
       "      <td>0.491187</td>\n",
       "      <td>0.795140</td>\n",
       "      <td>-0.846733</td>\n",
       "      <td>2.174405</td>\n",
       "      <td>-1.038638</td>\n",
       "      <td>-0.526262</td>\n",
       "      <td>-2.239829</td>\n",
       "      <td>3.551340</td>\n",
       "    </tr>\n",
       "    <tr>\n",
       "      <th>3</th>\n",
       "      <td>0.491187</td>\n",
       "      <td>0.795140</td>\n",
       "      <td>-0.846733</td>\n",
       "      <td>2.174405</td>\n",
       "      <td>-1.038638</td>\n",
       "      <td>-0.526262</td>\n",
       "      <td>-2.239829</td>\n",
       "      <td>5.055221</td>\n",
       "    </tr>\n",
       "    <tr>\n",
       "      <th>4</th>\n",
       "      <td>-0.790075</td>\n",
       "      <td>0.678079</td>\n",
       "      <td>-0.846733</td>\n",
       "      <td>0.488555</td>\n",
       "      <td>-1.038638</td>\n",
       "      <td>0.070492</td>\n",
       "      <td>0.647569</td>\n",
       "      <td>4.976069</td>\n",
       "    </tr>\n",
       "  </tbody>\n",
       "</table>\n",
       "</div>"
      ],
      "text/plain": [
       "     Cement  Blast Furnace Slag   Fly Ash     Water  Superplasticizer  \\\n",
       "0  2.476712           -0.856472 -0.846733 -0.916319         -0.620147   \n",
       "1  2.476712           -0.856472 -0.846733 -0.916319         -0.620147   \n",
       "2  0.491187            0.795140 -0.846733  2.174405         -1.038638   \n",
       "3  0.491187            0.795140 -0.846733  2.174405         -1.038638   \n",
       "4 -0.790075            0.678079 -0.846733  0.488555         -1.038638   \n",
       "\n",
       "   Coarse Aggregate  Fine Aggregate       Age  \n",
       "0          0.862735       -1.217079 -0.279597  \n",
       "1          1.055651       -1.217079 -0.279597  \n",
       "2         -0.526262       -2.239829  3.551340  \n",
       "3         -0.526262       -2.239829  5.055221  \n",
       "4          0.070492        0.647569  4.976069  "
      ]
     },
     "execution_count": 147,
     "metadata": {},
     "output_type": "execute_result"
    }
   ],
   "source": [
    "# Normalizing data\n",
    "predictors_norm = (predictors - predictors.mean()) / predictors.std()\n",
    "predictors_norm.head()\n"
   ]
  },
  {
   "cell_type": "code",
   "execution_count": 148,
   "metadata": {},
   "outputs": [],
   "source": [
    "# Saving the predictor to n_cols beacause I need this number to build the nnetwork\n",
    "n_cols = predictors_norm.shape[1] # number of predictors"
   ]
  },
  {
   "cell_type": "code",
   "execution_count": 149,
   "metadata": {},
   "outputs": [],
   "source": [
    "# Importing keras now\n",
    "import keras\n",
    "# Importing the different package\n",
    "from keras.models import Sequential\n",
    "from keras.layers import Dense\n"
   ]
  },
  {
   "cell_type": "markdown",
   "metadata": {},
   "source": [
    "## B 1. Building the neural network by defining the Keras regression model"
   ]
  },
  {
   "cell_type": "code",
   "execution_count": 150,
   "metadata": {},
   "outputs": [],
   "source": [
    "# define regression model wtih One hidden layer of 10 nodes, and a ReLU activation function\n",
    "def regression1_model():\n",
    "    # create model\n",
    "    model = Sequential()\n",
    "    model.add(Dense(10, activation='relu', input_shape=(n_cols,)))\n",
    "    model.add(Dense(10, activation='relu'))\n",
    "    \n",
    "    model.add(Dense(1))\n",
    "    \n",
    "    # compile model using the adam optimizer and the mean squared error as the loss function\n",
    "    model.compile(optimizer='adam', loss='mean_squared_error')\n",
    "    return model\n"
   ]
  },
  {
   "cell_type": "markdown",
   "metadata": {},
   "source": [
    "## B 2. Training the model on the training data"
   ]
  },
  {
   "cell_type": "code",
   "execution_count": 151,
   "metadata": {},
   "outputs": [],
   "source": [
    "# Calling the function to build the model\n",
    "model1 = regression1_model()"
   ]
  },
  {
   "cell_type": "code",
   "execution_count": 152,
   "metadata": {},
   "outputs": [
    {
     "name": "stdout",
     "output_type": "stream",
     "text": [
      "Train on 721 samples, validate on 309 samples\n",
      "Epoch 1/50\n",
      " - 2s - loss: 1662.2882 - val_loss: 1199.0507\n",
      "Epoch 2/50\n",
      " - 0s - loss: 1645.0367 - val_loss: 1186.7778\n",
      "Epoch 3/50\n",
      " - 1s - loss: 1627.5184 - val_loss: 1174.3066\n",
      "Epoch 4/50\n",
      " - 0s - loss: 1609.4621 - val_loss: 1161.8189\n",
      "Epoch 5/50\n",
      " - 0s - loss: 1591.0016 - val_loss: 1149.1676\n",
      "Epoch 6/50\n",
      " - 0s - loss: 1571.9287 - val_loss: 1136.3808\n",
      "Epoch 7/50\n",
      " - 0s - loss: 1552.0031 - val_loss: 1123.1122\n",
      "Epoch 8/50\n",
      " - 0s - loss: 1530.7938 - val_loss: 1109.3859\n",
      "Epoch 9/50\n",
      " - 0s - loss: 1508.6930 - val_loss: 1095.3900\n",
      "Epoch 10/50\n",
      " - 0s - loss: 1485.0632 - val_loss: 1080.7882\n",
      "Epoch 11/50\n",
      " - 0s - loss: 1460.0976 - val_loss: 1065.4436\n",
      "Epoch 12/50\n",
      " - 0s - loss: 1433.7478 - val_loss: 1048.8686\n",
      "Epoch 13/50\n",
      " - 0s - loss: 1404.6933 - val_loss: 1032.4264\n",
      "Epoch 14/50\n",
      " - 0s - loss: 1374.5190 - val_loss: 1014.9089\n",
      "Epoch 15/50\n",
      " - 0s - loss: 1341.3076 - val_loss: 997.0330\n",
      "Epoch 16/50\n",
      " - 0s - loss: 1307.0171 - val_loss: 978.5180\n",
      "Epoch 17/50\n",
      " - 0s - loss: 1271.4455 - val_loss: 959.6121\n",
      "Epoch 18/50\n",
      " - 0s - loss: 1234.3411 - val_loss: 940.2499\n",
      "Epoch 19/50\n",
      " - 0s - loss: 1196.2597 - val_loss: 920.4633\n",
      "Epoch 20/50\n",
      " - 0s - loss: 1157.5948 - val_loss: 900.4250\n",
      "Epoch 21/50\n",
      " - 0s - loss: 1118.1732 - val_loss: 880.0658\n",
      "Epoch 22/50\n",
      " - 0s - loss: 1079.0734 - val_loss: 859.5184\n",
      "Epoch 23/50\n",
      " - 0s - loss: 1039.1781 - val_loss: 839.0420\n",
      "Epoch 24/50\n",
      " - 1s - loss: 1000.0949 - val_loss: 818.0252\n",
      "Epoch 25/50\n",
      " - 0s - loss: 960.3350 - val_loss: 797.6927\n",
      "Epoch 26/50\n",
      " - 0s - loss: 921.2413 - val_loss: 777.2732\n",
      "Epoch 27/50\n",
      " - 0s - loss: 882.6511 - val_loss: 756.7682\n",
      "Epoch 28/50\n",
      " - 0s - loss: 844.8958 - val_loss: 735.7905\n",
      "Epoch 29/50\n",
      " - 0s - loss: 807.1212 - val_loss: 716.1577\n",
      "Epoch 30/50\n",
      " - 0s - loss: 770.9327 - val_loss: 696.5944\n",
      "Epoch 31/50\n",
      " - 0s - loss: 735.8767 - val_loss: 677.1276\n",
      "Epoch 32/50\n",
      " - 0s - loss: 702.1978 - val_loss: 657.3826\n",
      "Epoch 33/50\n",
      " - 0s - loss: 669.4674 - val_loss: 638.1221\n",
      "Epoch 34/50\n",
      " - 0s - loss: 638.2852 - val_loss: 619.7877\n",
      "Epoch 35/50\n",
      " - 0s - loss: 608.6790 - val_loss: 601.3893\n",
      "Epoch 36/50\n",
      " - 0s - loss: 580.6038 - val_loss: 583.3904\n",
      "Epoch 37/50\n",
      " - 0s - loss: 553.7634 - val_loss: 565.9258\n",
      "Epoch 38/50\n",
      " - 0s - loss: 528.3111 - val_loss: 549.2659\n",
      "Epoch 39/50\n",
      " - 0s - loss: 504.6387 - val_loss: 532.4346\n",
      "Epoch 40/50\n",
      " - 0s - loss: 482.3303 - val_loss: 516.5327\n",
      "Epoch 41/50\n",
      " - 0s - loss: 461.5888 - val_loss: 500.7024\n",
      "Epoch 42/50\n",
      " - 0s - loss: 441.8633 - val_loss: 485.6233\n",
      "Epoch 43/50\n",
      " - 0s - loss: 423.3735 - val_loss: 471.0165\n",
      "Epoch 44/50\n",
      " - 0s - loss: 406.1745 - val_loss: 456.8880\n",
      "Epoch 45/50\n",
      " - 0s - loss: 390.0972 - val_loss: 442.8147\n",
      "Epoch 46/50\n",
      " - 0s - loss: 374.9979 - val_loss: 429.3079\n",
      "Epoch 47/50\n",
      " - 0s - loss: 360.9770 - val_loss: 416.9372\n",
      "Epoch 48/50\n",
      " - 0s - loss: 348.0909 - val_loss: 404.6121\n",
      "Epoch 49/50\n",
      " - 0s - loss: 336.0155 - val_loss: 392.7091\n",
      "Epoch 50/50\n",
      " - 0s - loss: 324.9869 - val_loss: 381.2925\n"
     ]
    },
    {
     "data": {
      "text/plain": [
       "<keras.callbacks.History at 0x7ff0802b24a8>"
      ]
     },
     "execution_count": 152,
     "metadata": {},
     "output_type": "execute_result"
    }
   ],
   "source": [
    "# Training the model using the fit method and leaving out 30% of the dataset for validation and also 50 epochs on training datasets\n",
    "model1.fit(predictors_norm, target, validation_split=0.3, epochs=50, verbose=2)\n"
   ]
  },
  {
   "cell_type": "markdown",
   "metadata": {},
   "source": [
    "## B 3. Evaluate the model on the test data"
   ]
  },
  {
   "cell_type": "code",
   "execution_count": 153,
   "metadata": {},
   "outputs": [
    {
     "data": {
      "text/plain": [
       "337.80959744074875"
      ]
     },
     "execution_count": 153,
     "metadata": {},
     "output_type": "execute_result"
    }
   ],
   "source": [
    "predictions1 = model1.predict(predictors_norm)\n",
    "# Computig the mean squared error between the predicted concrete strength and the actual concrete strength\n",
    "from sklearn.metrics import mean_squared_error\n",
    "y_pred1=predictions1\n",
    "y_true=target\n",
    "\n",
    "mean_squared_error (y_pred1,y_true)"
   ]
  },
  {
   "cell_type": "markdown",
   "metadata": {},
   "source": [
    "## B 4. Comparing the two mean_squared_error\n",
    "\n",
    "The mean_squared_error of the part A (259.5098343341006) <The mean_squared_error of the part B (337.80959744074875)"
   ]
  },
  {
   "cell_type": "markdown",
   "metadata": {},
   "source": [
    "# Part C Increasing the number"
   ]
  },
  {
   "cell_type": "markdown",
   "metadata": {},
   "source": [
    "## C 1. Increasing the number of epochs and reapeting the part B"
   ]
  },
  {
   "cell_type": "code",
   "execution_count": 154,
   "metadata": {
    "scrolled": false
   },
   "outputs": [
    {
     "name": "stdout",
     "output_type": "stream",
     "text": [
      "Train on 721 samples, validate on 309 samples\n",
      "Epoch 1/100\n",
      " - 0s - loss: 314.6067 - val_loss: 370.7129\n",
      "Epoch 2/100\n",
      " - 0s - loss: 305.1132 - val_loss: 360.1188\n",
      "Epoch 3/100\n",
      " - 0s - loss: 296.2191 - val_loss: 350.1497\n",
      "Epoch 4/100\n",
      " - 0s - loss: 287.8917 - val_loss: 340.8011\n",
      "Epoch 5/100\n",
      " - 0s - loss: 280.4279 - val_loss: 331.3149\n",
      "Epoch 6/100\n",
      " - 0s - loss: 273.3072 - val_loss: 322.8282\n",
      "Epoch 7/100\n",
      " - 0s - loss: 266.9564 - val_loss: 314.4095\n",
      "Epoch 8/100\n",
      " - 0s - loss: 260.8852 - val_loss: 306.6153\n",
      "Epoch 9/100\n",
      " - 0s - loss: 255.2155 - val_loss: 299.3749\n",
      "Epoch 10/100\n",
      " - 0s - loss: 249.9875 - val_loss: 292.4062\n",
      "Epoch 11/100\n",
      " - 0s - loss: 245.3501 - val_loss: 285.3373\n",
      "Epoch 12/100\n",
      " - 0s - loss: 240.7691 - val_loss: 279.3780\n",
      "Epoch 13/100\n",
      " - 0s - loss: 236.7854 - val_loss: 273.4832\n",
      "Epoch 14/100\n",
      " - 0s - loss: 232.9272 - val_loss: 268.1343\n",
      "Epoch 15/100\n",
      " - 0s - loss: 229.2314 - val_loss: 262.7833\n",
      "Epoch 16/100\n",
      " - 0s - loss: 225.9349 - val_loss: 257.8992\n",
      "Epoch 17/100\n",
      " - 0s - loss: 222.7912 - val_loss: 253.1666\n",
      "Epoch 18/100\n",
      " - 0s - loss: 219.7510 - val_loss: 248.8078\n",
      "Epoch 19/100\n",
      " - 0s - loss: 217.0084 - val_loss: 244.3301\n",
      "Epoch 20/100\n",
      " - 0s - loss: 214.1862 - val_loss: 240.2266\n",
      "Epoch 21/100\n",
      " - 0s - loss: 211.7381 - val_loss: 235.6771\n",
      "Epoch 22/100\n",
      " - 0s - loss: 209.2666 - val_loss: 232.2791\n",
      "Epoch 23/100\n",
      " - 0s - loss: 207.0147 - val_loss: 228.9583\n",
      "Epoch 24/100\n",
      " - 0s - loss: 204.8562 - val_loss: 225.5540\n",
      "Epoch 25/100\n",
      " - 0s - loss: 202.6834 - val_loss: 222.6103\n",
      "Epoch 26/100\n",
      " - 0s - loss: 200.7708 - val_loss: 219.4966\n",
      "Epoch 27/100\n",
      " - 0s - loss: 198.8116 - val_loss: 216.5978\n",
      "Epoch 28/100\n",
      " - 0s - loss: 196.9231 - val_loss: 213.9103\n",
      "Epoch 29/100\n",
      " - 0s - loss: 195.2621 - val_loss: 210.9270\n",
      "Epoch 30/100\n",
      " - 0s - loss: 193.4282 - val_loss: 208.4772\n",
      "Epoch 31/100\n",
      " - 0s - loss: 191.7658 - val_loss: 205.6086\n",
      "Epoch 32/100\n",
      " - 0s - loss: 190.0725 - val_loss: 203.0596\n",
      "Epoch 33/100\n",
      " - 0s - loss: 188.4202 - val_loss: 200.9725\n",
      "Epoch 34/100\n",
      " - 0s - loss: 186.7352 - val_loss: 198.3472\n",
      "Epoch 35/100\n",
      " - 0s - loss: 185.0770 - val_loss: 195.9372\n",
      "Epoch 36/100\n",
      " - 0s - loss: 183.4330 - val_loss: 194.1669\n",
      "Epoch 37/100\n",
      " - 0s - loss: 182.0023 - val_loss: 191.9602\n",
      "Epoch 38/100\n",
      " - 0s - loss: 180.4245 - val_loss: 190.3354\n",
      "Epoch 39/100\n",
      " - 0s - loss: 178.9329 - val_loss: 187.9524\n",
      "Epoch 40/100\n",
      " - 0s - loss: 177.4485 - val_loss: 186.1078\n",
      "Epoch 41/100\n",
      " - 0s - loss: 176.0283 - val_loss: 183.6746\n",
      "Epoch 42/100\n",
      " - 0s - loss: 174.6316 - val_loss: 182.0773\n",
      "Epoch 43/100\n",
      " - 0s - loss: 173.1783 - val_loss: 180.0724\n",
      "Epoch 44/100\n",
      " - 2s - loss: 171.8150 - val_loss: 177.8903\n",
      "Epoch 45/100\n",
      " - 0s - loss: 170.5069 - val_loss: 176.1745\n",
      "Epoch 46/100\n",
      " - 0s - loss: 169.1473 - val_loss: 174.4891\n",
      "Epoch 47/100\n",
      " - 0s - loss: 167.8099 - val_loss: 172.3084\n",
      "Epoch 48/100\n",
      " - 1s - loss: 166.4178 - val_loss: 170.8340\n",
      "Epoch 49/100\n",
      " - 0s - loss: 165.2629 - val_loss: 169.2024\n",
      "Epoch 50/100\n",
      " - 0s - loss: 163.9067 - val_loss: 167.2402\n",
      "Epoch 51/100\n",
      " - 0s - loss: 162.5581 - val_loss: 165.4834\n",
      "Epoch 52/100\n",
      " - 0s - loss: 161.2872 - val_loss: 164.1810\n",
      "Epoch 53/100\n",
      " - 0s - loss: 160.1008 - val_loss: 161.9455\n",
      "Epoch 54/100\n",
      " - 0s - loss: 158.8517 - val_loss: 160.7231\n",
      "Epoch 55/100\n",
      " - 0s - loss: 157.5825 - val_loss: 159.0337\n",
      "Epoch 56/100\n",
      " - 0s - loss: 156.4127 - val_loss: 157.6649\n",
      "Epoch 57/100\n",
      " - 0s - loss: 155.2728 - val_loss: 156.1532\n",
      "Epoch 58/100\n",
      " - 0s - loss: 154.0504 - val_loss: 154.5850\n",
      "Epoch 59/100\n",
      " - 0s - loss: 152.9860 - val_loss: 153.0062\n",
      "Epoch 60/100\n",
      " - 0s - loss: 151.8724 - val_loss: 151.5181\n",
      "Epoch 61/100\n",
      " - 0s - loss: 150.7747 - val_loss: 150.3841\n",
      "Epoch 62/100\n",
      " - 0s - loss: 149.6926 - val_loss: 148.8649\n",
      "Epoch 63/100\n",
      " - 0s - loss: 148.7188 - val_loss: 147.6410\n",
      "Epoch 64/100\n",
      " - 0s - loss: 147.6274 - val_loss: 146.1462\n",
      "Epoch 65/100\n",
      " - 0s - loss: 146.5538 - val_loss: 144.9684\n",
      "Epoch 66/100\n",
      " - 0s - loss: 145.6181 - val_loss: 143.2434\n",
      "Epoch 67/100\n",
      " - 1s - loss: 144.6205 - val_loss: 142.3001\n",
      "Epoch 68/100\n",
      " - 0s - loss: 143.4693 - val_loss: 140.7684\n",
      "Epoch 69/100\n",
      " - 0s - loss: 142.7163 - val_loss: 139.9001\n",
      "Epoch 70/100\n",
      " - 0s - loss: 141.6671 - val_loss: 138.3974\n",
      "Epoch 71/100\n",
      " - 0s - loss: 140.6164 - val_loss: 137.4830\n",
      "Epoch 72/100\n",
      " - 0s - loss: 139.7201 - val_loss: 136.1798\n",
      "Epoch 73/100\n",
      " - 0s - loss: 138.7614 - val_loss: 134.7326\n",
      "Epoch 74/100\n",
      " - 0s - loss: 137.8151 - val_loss: 133.3346\n",
      "Epoch 75/100\n",
      " - 0s - loss: 137.0128 - val_loss: 132.3925\n",
      "Epoch 76/100\n",
      " - 0s - loss: 136.0201 - val_loss: 131.3673\n",
      "Epoch 77/100\n",
      " - 0s - loss: 135.0932 - val_loss: 130.0050\n",
      "Epoch 78/100\n",
      " - 0s - loss: 134.2925 - val_loss: 129.1642\n",
      "Epoch 79/100\n",
      " - 0s - loss: 133.5015 - val_loss: 128.2079\n",
      "Epoch 80/100\n",
      " - 0s - loss: 132.7126 - val_loss: 126.8222\n",
      "Epoch 81/100\n",
      " - 0s - loss: 131.7303 - val_loss: 125.9209\n",
      "Epoch 82/100\n",
      " - 0s - loss: 130.8839 - val_loss: 125.4275\n",
      "Epoch 83/100\n",
      " - 0s - loss: 129.9842 - val_loss: 124.0953\n",
      "Epoch 84/100\n",
      " - 0s - loss: 129.2317 - val_loss: 123.1566\n",
      "Epoch 85/100\n",
      " - 0s - loss: 128.4019 - val_loss: 121.9517\n",
      "Epoch 86/100\n",
      " - 0s - loss: 127.5993 - val_loss: 121.1095\n",
      "Epoch 87/100\n",
      " - 0s - loss: 126.8094 - val_loss: 119.8584\n",
      "Epoch 88/100\n",
      " - 0s - loss: 125.9870 - val_loss: 118.9663\n",
      "Epoch 89/100\n",
      " - 0s - loss: 125.2108 - val_loss: 118.2834\n",
      "Epoch 90/100\n",
      " - 0s - loss: 124.3958 - val_loss: 117.5474\n",
      "Epoch 91/100\n",
      " - 0s - loss: 123.6835 - val_loss: 116.8971\n",
      "Epoch 92/100\n",
      " - 0s - loss: 122.8297 - val_loss: 116.0925\n",
      "Epoch 93/100\n",
      " - 0s - loss: 121.9551 - val_loss: 114.9327\n",
      "Epoch 94/100\n",
      " - 0s - loss: 121.2387 - val_loss: 114.2500\n",
      "Epoch 95/100\n",
      " - 0s - loss: 120.4111 - val_loss: 113.5274\n",
      "Epoch 96/100\n",
      " - 0s - loss: 119.6286 - val_loss: 112.4596\n",
      "Epoch 97/100\n",
      " - 0s - loss: 118.8775 - val_loss: 112.1904\n",
      "Epoch 98/100\n",
      " - 0s - loss: 118.0133 - val_loss: 111.0621\n",
      "Epoch 99/100\n",
      " - 0s - loss: 117.2266 - val_loss: 110.0712\n",
      "Epoch 100/100\n",
      " - 0s - loss: 116.4589 - val_loss: 109.3269\n"
     ]
    },
    {
     "data": {
      "text/plain": [
       "<keras.callbacks.History at 0x7ff0802b20f0>"
      ]
     },
     "execution_count": 154,
     "metadata": {},
     "output_type": "execute_result"
    }
   ],
   "source": [
    "# Training the model using the fit method and leaving out 30% of the dataset for validation and also 100 epochs on training datasets\n",
    "model1.fit(predictors_norm, target, validation_split=0.3, epochs=100, verbose=2)\n"
   ]
  },
  {
   "cell_type": "markdown",
   "metadata": {},
   "source": [
    "## C2. Evaluating the model on the test data"
   ]
  },
  {
   "cell_type": "code",
   "execution_count": 155,
   "metadata": {},
   "outputs": [
    {
     "data": {
      "text/plain": [
       "113.94045342533624"
      ]
     },
     "execution_count": 155,
     "metadata": {},
     "output_type": "execute_result"
    }
   ],
   "source": [
    "predictions1 = model1.predict(predictors_norm)\n",
    "# Computig the mean squared error between the predicted concrete strength and the actual concrete strength\n",
    "from sklearn.metrics import mean_squared_error\n",
    "y_pred1=predictions1\n",
    "y_true=target\n",
    "\n",
    "mean_squared_error (y_pred1,y_true)"
   ]
  },
  {
   "cell_type": "markdown",
   "metadata": {},
   "source": [
    "## C 3. Comparing the two mean_squared_error of step B and C\n",
    "\n",
    "The mean_squared_error of the part C (113.94045342533624) < The mean_squared_error of the part B (337.80959744074875)"
   ]
  },
  {
   "cell_type": "markdown",
   "metadata": {},
   "source": [
    "# Part D: Increasing the number of hidden layers of part B"
   ]
  },
  {
   "cell_type": "code",
   "execution_count": 157,
   "metadata": {},
   "outputs": [],
   "source": [
    "# define regression model wtih three hidden layer of 10 nodes, and a ReLU activation function\n",
    "def regression3_model():\n",
    "    # create model\n",
    "    model = Sequential()\n",
    "    model.add(Dense(10, activation='relu', input_shape=(n_cols,)))\n",
    "    model.add(Dense(10, activation='relu'))\n",
    "    model.add(Dense(10, activation='relu'))\n",
    "    model.add(Dense(10, activation='relu'))\n",
    "    model.add(Dense(1))\n",
    "    \n",
    "    # compile model using the adam optimizer and the mean squared error as the loss function\n",
    "    model.compile(optimizer='adam', loss='mean_squared_error')\n",
    "    return model\n"
   ]
  },
  {
   "cell_type": "markdown",
   "metadata": {},
   "source": [
    "## D 1. Training the model "
   ]
  },
  {
   "cell_type": "code",
   "execution_count": 158,
   "metadata": {},
   "outputs": [],
   "source": [
    "# Calling the function to build the model\n",
    "model3 = regression3_model()"
   ]
  },
  {
   "cell_type": "code",
   "execution_count": 159,
   "metadata": {},
   "outputs": [
    {
     "name": "stdout",
     "output_type": "stream",
     "text": [
      "Train on 721 samples, validate on 309 samples\n",
      "Epoch 1/50\n",
      " - 3s - loss: 1691.3657 - val_loss: 1213.6506\n",
      "Epoch 2/50\n",
      " - 0s - loss: 1667.0033 - val_loss: 1185.1137\n",
      "Epoch 3/50\n",
      " - 1s - loss: 1625.8191 - val_loss: 1137.2919\n",
      "Epoch 4/50\n",
      " - 0s - loss: 1550.8214 - val_loss: 1055.2910\n",
      "Epoch 5/50\n",
      " - 0s - loss: 1415.1985 - val_loss: 927.6340\n",
      "Epoch 6/50\n",
      " - 0s - loss: 1208.3346 - val_loss: 743.4793\n",
      "Epoch 7/50\n",
      " - 0s - loss: 913.1059 - val_loss: 526.4370\n",
      "Epoch 8/50\n",
      " - 0s - loss: 591.3101 - val_loss: 338.2409\n",
      "Epoch 9/50\n",
      " - 1s - loss: 361.3152 - val_loss: 258.9213\n",
      "Epoch 10/50\n",
      " - 0s - loss: 281.4370 - val_loss: 241.7340\n",
      "Epoch 11/50\n",
      " - 0s - loss: 255.2485 - val_loss: 228.8795\n",
      "Epoch 12/50\n",
      " - 0s - loss: 237.7635 - val_loss: 219.5048\n",
      "Epoch 13/50\n",
      " - 0s - loss: 226.4484 - val_loss: 214.4971\n",
      "Epoch 14/50\n",
      " - 0s - loss: 217.3005 - val_loss: 209.3553\n",
      "Epoch 15/50\n",
      " - 0s - loss: 211.4539 - val_loss: 205.7904\n",
      "Epoch 16/50\n",
      " - 0s - loss: 205.7124 - val_loss: 206.3940\n",
      "Epoch 17/50\n",
      " - 0s - loss: 200.8811 - val_loss: 202.2318\n",
      "Epoch 18/50\n",
      " - 1s - loss: 196.2702 - val_loss: 199.2286\n",
      "Epoch 19/50\n",
      " - 0s - loss: 192.2391 - val_loss: 198.3174\n",
      "Epoch 20/50\n",
      " - 2s - loss: 188.7810 - val_loss: 194.8221\n",
      "Epoch 21/50\n",
      " - 2s - loss: 185.8672 - val_loss: 192.9122\n",
      "Epoch 22/50\n",
      " - 0s - loss: 182.0690 - val_loss: 187.4275\n",
      "Epoch 23/50\n",
      " - 0s - loss: 179.2111 - val_loss: 188.3587\n",
      "Epoch 24/50\n",
      " - 0s - loss: 176.4615 - val_loss: 188.0928\n",
      "Epoch 25/50\n",
      " - 0s - loss: 174.4770 - val_loss: 183.5092\n",
      "Epoch 26/50\n",
      " - 0s - loss: 172.0020 - val_loss: 180.7511\n",
      "Epoch 27/50\n",
      " - 1s - loss: 169.7009 - val_loss: 182.3595\n",
      "Epoch 28/50\n",
      " - 0s - loss: 167.8000 - val_loss: 177.7001\n",
      "Epoch 29/50\n",
      " - 1s - loss: 166.0162 - val_loss: 176.6948\n",
      "Epoch 30/50\n",
      " - 0s - loss: 164.8350 - val_loss: 175.7647\n",
      "Epoch 31/50\n",
      " - 1s - loss: 163.1645 - val_loss: 175.1459\n",
      "Epoch 32/50\n",
      " - 1s - loss: 161.8227 - val_loss: 171.6857\n",
      "Epoch 33/50\n",
      " - 0s - loss: 160.2140 - val_loss: 174.6307\n",
      "Epoch 34/50\n",
      " - 0s - loss: 159.0256 - val_loss: 171.3020\n",
      "Epoch 35/50\n",
      " - 0s - loss: 157.2589 - val_loss: 172.0670\n",
      "Epoch 36/50\n",
      " - 0s - loss: 156.6150 - val_loss: 170.4266\n",
      "Epoch 37/50\n",
      " - 1s - loss: 156.0557 - val_loss: 167.6522\n",
      "Epoch 38/50\n",
      " - 0s - loss: 153.6415 - val_loss: 167.6754\n",
      "Epoch 39/50\n",
      " - 2s - loss: 152.4200 - val_loss: 168.2542\n",
      "Epoch 40/50\n",
      " - 1s - loss: 151.2019 - val_loss: 166.6573\n",
      "Epoch 41/50\n",
      " - 0s - loss: 150.2367 - val_loss: 165.5918\n",
      "Epoch 42/50\n",
      " - 0s - loss: 149.4877 - val_loss: 163.6930\n",
      "Epoch 43/50\n",
      " - 0s - loss: 148.8129 - val_loss: 166.6627\n",
      "Epoch 44/50\n",
      " - 0s - loss: 147.0604 - val_loss: 164.8396\n",
      "Epoch 45/50\n",
      " - 1s - loss: 146.0095 - val_loss: 162.0795\n",
      "Epoch 46/50\n",
      " - 0s - loss: 145.1046 - val_loss: 162.3133\n",
      "Epoch 47/50\n",
      " - 0s - loss: 144.1429 - val_loss: 160.7893\n",
      "Epoch 48/50\n",
      " - 1s - loss: 143.2775 - val_loss: 163.6027\n",
      "Epoch 49/50\n",
      " - 0s - loss: 142.2096 - val_loss: 161.6010\n",
      "Epoch 50/50\n",
      " - 0s - loss: 141.3253 - val_loss: 158.7057\n"
     ]
    },
    {
     "data": {
      "text/plain": [
       "<keras.callbacks.History at 0x7ff07827e438>"
      ]
     },
     "execution_count": 159,
     "metadata": {},
     "output_type": "execute_result"
    }
   ],
   "source": [
    "# Training the model using the fit method and leaving out 30% of the dataset for validation and also 50 epochs on training datasets\n",
    "model3.fit(predictors_norm, target, validation_split=0.3, epochs=50, verbose=2)\n"
   ]
  },
  {
   "cell_type": "markdown",
   "metadata": {},
   "source": [
    "## D 2. Evaluate the model on the test data"
   ]
  },
  {
   "cell_type": "code",
   "execution_count": 160,
   "metadata": {},
   "outputs": [
    {
     "data": {
      "text/plain": [
       "145.7007953279716"
      ]
     },
     "execution_count": 160,
     "metadata": {},
     "output_type": "execute_result"
    }
   ],
   "source": [
    "predictions3 = model3.predict(predictors_norm)\n",
    "# Computig the mean squared error between the predicted concrete strength and the actual concrete strength\n",
    "from sklearn.metrics import mean_squared_error\n",
    "y_pred=predictions3\n",
    "y_true=target\n",
    "\n",
    "mean_squared_error (y_pred,y_true)"
   ]
  },
  {
   "cell_type": "markdown",
   "metadata": {},
   "source": [
    "## D 3. Comparing the two mean_squared_error of step B and D\n",
    "\n",
    "The mean_squared_error of the part D (145.7007953279716) < The mean_squared_error of the part B (337.80959744074875)"
   ]
  }
 ],
 "metadata": {
  "kernelspec": {
   "display_name": "Python 3.6",
   "language": "python",
   "name": "python3"
  },
  "language_info": {
   "codemirror_mode": {
    "name": "ipython",
    "version": 3
   },
   "file_extension": ".py",
   "mimetype": "text/x-python",
   "name": "python",
   "nbconvert_exporter": "python",
   "pygments_lexer": "ipython3",
   "version": "3.6.9"
  }
 },
 "nbformat": 4,
 "nbformat_minor": 1
}
